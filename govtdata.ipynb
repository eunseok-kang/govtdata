{
  "nbformat": 4,
  "nbformat_minor": 0,
  "metadata": {
    "colab": {
      "name": "govtdata.ipynb",
      "provenance": []
    },
    "kernelspec": {
      "name": "python3",
      "display_name": "Python 3"
    },
    "language_info": {
      "name": "python"
    }
  },
  "cells": [
    {
      "cell_type": "code",
      "execution_count": 8,
      "metadata": {
        "id": "LX1xiaI9eZgb"
      },
      "outputs": [],
      "source": [
        "import pandas as pd\n",
        "import matplotlib"
      ]
    },
    {
      "cell_type": "code",
      "source": [
        "file = 'pu_ssocs18.sas7bdat'"
      ],
      "metadata": {
        "id": "UfuoslO0efzY"
      },
      "execution_count": 9,
      "outputs": []
    },
    {
      "cell_type": "code",
      "source": [
        "df = pd.read_sas(file)\n",
        "print(df.head())"
      ],
      "metadata": {
        "colab": {
          "base_uri": "https://localhost:8080/"
        },
        "id": "ZhthFo8Ey_8v",
        "outputId": "535da869-9303-4554-946b-82d932490165"
      },
      "execution_count": 10,
      "outputs": [
        {
          "output_type": "stream",
          "name": "stdout",
          "text": [
            "     SCHID  C0110  C0112  C0114  C0116  C0120  C0121  C0122  C0125  C0129  \\\n",
            "0  b'4225'    1.0    1.0    1.0    2.0    2.0    1.0    2.0    2.0    2.0   \n",
            "1  b'1274'    1.0    1.0    2.0    2.0    2.0    1.0    1.0    1.0    1.0   \n",
            "2  b'1986'    1.0    1.0    1.0    2.0    2.0    1.0    2.0    2.0    1.0   \n",
            "3  b'0029'    1.0    1.0    1.0    2.0    2.0    1.0    1.0    1.0    2.0   \n",
            "4  b'2234'    1.0    1.0    2.0    2.0    2.0    1.0    2.0    2.0    2.0   \n",
            "\n",
            "   ...  IC0534  IC0536  IC0538  IC0560  IC0562  IC0568  IC0570  IC0572  \\\n",
            "0  ...    -0.0    -0.0    -0.0    -0.0    -0.0    -0.0    -0.0    -0.0   \n",
            "1  ...    -0.0    -0.0    -0.0    -0.0    -0.0     7.0    -0.0    -0.0   \n",
            "2  ...    -0.0    -0.0    -0.0    -0.0    -0.0    -0.0    -0.0    -0.0   \n",
            "3  ...    -0.0    -0.0    -0.0    -0.0    -0.0    -0.0    -0.0    -0.0   \n",
            "4  ...    -0.0    -0.0    -0.0    -0.0    -0.0    -0.0    -0.0    -0.0   \n",
            "\n",
            "   IC0578  IC0580  \n",
            "0    -0.0    -0.0  \n",
            "1    -0.0    -0.0  \n",
            "2    -0.0    -0.0  \n",
            "3    -0.0    -0.0  \n",
            "4    -0.0    -0.0  \n",
            "\n",
            "[5 rows x 424 columns]\n"
          ]
        },
        {
          "output_type": "stream",
          "name": "stderr",
          "text": [
            "/usr/local/lib/python3.7/dist-packages/pandas/io/sas/sas7bdat.py:800: PerformanceWarning: DataFrame is highly fragmented.  This is usually the result of calling `frame.insert` many times, which has poor performance.  Consider joining all columns at once using pd.concat(axis=1) instead.  To get a de-fragmented frame, use `newframe = frame.copy()`\n",
            "  rslt[name] = self._byte_chunk[jb, :].view(dtype=self.byte_order + \"d\")\n",
            "/usr/local/lib/python3.7/dist-packages/pandas/io/sas/sas7bdat.py:809: PerformanceWarning: DataFrame is highly fragmented.  This is usually the result of calling `frame.insert` many times, which has poor performance.  Consider joining all columns at once using pd.concat(axis=1) instead.  To get a de-fragmented frame, use `newframe = frame.copy()`\n",
            "  rslt[name] = self._string_chunk[js, :]\n"
          ]
        }
      ]
    },
    {
      "cell_type": "code",
      "source": [
        "col = 'C0560' #<-edit this value! column name as it appears in dataframe\n",
        "col_name = 'Levels of Crime' #<-edit this value! descriptive name for column\n",
        "freq = df[col].value_counts().rename_axis(col_name).reset_index(name='freq')\n",
        "freq = freq.sort_values(by = col_name)\n",
        "print(freq)"
      ],
      "metadata": {
        "colab": {
          "base_uri": "https://localhost:8080/"
        },
        "id": "H4eDCEgmzFBS",
        "outputId": "d1fcff53-8845-4ce1-8dff-cc072ed4bf68"
      },
      "execution_count": 13,
      "outputs": [
        {
          "output_type": "stream",
          "name": "stdout",
          "text": [
            "   Levels of Crime  freq\n",
            "3              1.0   216\n",
            "1              2.0   615\n",
            "0              3.0  1547\n",
            "2              4.0   384\n"
          ]
        }
      ]
    },
    {
      "cell_type": "code",
      "source": [
        "codebook = [['1', 'High level of crime'], #<- if appropriate, replace these values based on codebook or data dictionary for your dataset\n",
        "            ['2', 'Moderate level of crime'], \n",
        "            ['3', 'Low level of crime'], \n",
        "            ['4', 'Varying levels of crime']] \n",
        "for lbl in codebook:\n",
        "    freq[col_name] = freq[col_name].replace(int(lbl[0]), lbl[1])\n",
        "    print(freq)\n"
      ],
      "metadata": {
        "colab": {
          "base_uri": "https://localhost:8080/"
        },
        "id": "XOdhEHoF0hsS",
        "outputId": "26ba9ff3-6383-41ad-b2b7-80ef5be042e0"
      },
      "execution_count": 19,
      "outputs": [
        {
          "output_type": "stream",
          "name": "stdout",
          "text": [
            "           Levels of Crime  freq\n",
            "3  Moderate level of crime   216\n",
            "1       Low level of crime   615\n",
            "0  Varying levels of crime  1547\n",
            "2      High level of crime   384\n",
            "           Levels of Crime  freq\n",
            "3  Moderate level of crime   216\n",
            "1       Low level of crime   615\n",
            "0  Varying levels of crime  1547\n",
            "2      High level of crime   384\n",
            "           Levels of Crime  freq\n",
            "3  Moderate level of crime   216\n",
            "1       Low level of crime   615\n",
            "0  Varying levels of crime  1547\n",
            "2      High level of crime   384\n",
            "           Levels of Crime  freq\n",
            "3  Moderate level of crime   216\n",
            "1       Low level of crime   615\n",
            "0  Varying levels of crime  1547\n",
            "2      High level of crime   384\n"
          ]
        }
      ]
    },
    {
      "cell_type": "code",
      "source": [
        "ax = freq.plot.barh(x=col_name, y='freq', rot=0)\n"
      ],
      "metadata": {
        "colab": {
          "base_uri": "https://localhost:8080/",
          "height": 265
        },
        "id": "VH9k6PxS1P6N",
        "outputId": "d95a2da7-1e74-420b-864a-e3805b366951"
      },
      "execution_count": 20,
      "outputs": [
        {
          "output_type": "display_data",
          "data": {
            "text/plain": [
              "<Figure size 432x288 with 1 Axes>"
            ],
            "image/png": "[encoded data removed]"
          },
          "metadata": {
            "needs_background": "light"
          }
        }
      ]
    }
  ]
}